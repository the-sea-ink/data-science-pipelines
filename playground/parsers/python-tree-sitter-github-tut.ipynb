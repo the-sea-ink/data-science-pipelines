{
 "cells": [
  {
   "cell_type": "code",
   "execution_count": 3,
   "outputs": [
    {
     "ename": "OSError",
     "evalue": "./build/my-languages.so: cannot open shared object file: No such file or directory",
     "output_type": "error",
     "traceback": [
      "\u001B[0;31m---------------------------------------------------------------------------\u001B[0m",
      "\u001B[0;31mOSError\u001B[0m                                   Traceback (most recent call last)",
      "Input \u001B[0;32mIn [3]\u001B[0m, in \u001B[0;36m<cell line: 3>\u001B[0;34m()\u001B[0m\n\u001B[1;32m      1\u001B[0m \u001B[38;5;28;01mfrom\u001B[39;00m \u001B[38;5;21;01mtree_sitter\u001B[39;00m \u001B[38;5;28;01mimport\u001B[39;00m Language, Parser\n\u001B[0;32m----> 3\u001B[0m PY_LANGUAGE \u001B[38;5;241m=\u001B[39m \u001B[43mLanguage\u001B[49m\u001B[43m(\u001B[49m\u001B[38;5;124;43m'\u001B[39;49m\u001B[38;5;124;43m./build/my-languages.so\u001B[39;49m\u001B[38;5;124;43m'\u001B[39;49m\u001B[43m,\u001B[49m\u001B[43m \u001B[49m\u001B[38;5;124;43m'\u001B[39;49m\u001B[38;5;124;43mpython\u001B[39;49m\u001B[38;5;124;43m'\u001B[39;49m\u001B[43m)\u001B[49m\n\u001B[1;32m      5\u001B[0m python_parser \u001B[38;5;241m=\u001B[39m Parser()\n\u001B[1;32m      6\u001B[0m python_parser\u001B[38;5;241m.\u001B[39mset_language(PY_LANGUAGE)\n",
      "File \u001B[0;32m~/Desktop/Code/university_projects/datenbankprojekt/dbpro_pyenv/lib/python3.8/site-packages/tree_sitter/__init__.py:82\u001B[0m, in \u001B[0;36mLanguage.__init__\u001B[0;34m(self, library_path, name)\u001B[0m\n\u001B[1;32m     77\u001B[0m \u001B[38;5;124;03m\"\"\"\u001B[39;00m\n\u001B[1;32m     78\u001B[0m \u001B[38;5;124;03mLoad the language with the given name from the dynamic library\u001B[39;00m\n\u001B[1;32m     79\u001B[0m \u001B[38;5;124;03mat the given path.\u001B[39;00m\n\u001B[1;32m     80\u001B[0m \u001B[38;5;124;03m\"\"\"\u001B[39;00m\n\u001B[1;32m     81\u001B[0m \u001B[38;5;28mself\u001B[39m\u001B[38;5;241m.\u001B[39mname \u001B[38;5;241m=\u001B[39m name\n\u001B[0;32m---> 82\u001B[0m \u001B[38;5;28mself\u001B[39m\u001B[38;5;241m.\u001B[39mlib \u001B[38;5;241m=\u001B[39m \u001B[43mcdll\u001B[49m\u001B[38;5;241;43m.\u001B[39;49m\u001B[43mLoadLibrary\u001B[49m\u001B[43m(\u001B[49m\u001B[43mlibrary_path\u001B[49m\u001B[43m)\u001B[49m\n\u001B[1;32m     83\u001B[0m language_function \u001B[38;5;241m=\u001B[39m \u001B[38;5;28mgetattr\u001B[39m(\u001B[38;5;28mself\u001B[39m\u001B[38;5;241m.\u001B[39mlib, \u001B[38;5;124m\"\u001B[39m\u001B[38;5;124mtree_sitter_\u001B[39m\u001B[38;5;132;01m%s\u001B[39;00m\u001B[38;5;124m\"\u001B[39m \u001B[38;5;241m%\u001B[39m name)\n\u001B[1;32m     84\u001B[0m language_function\u001B[38;5;241m.\u001B[39mrestype \u001B[38;5;241m=\u001B[39m c_void_p\n",
      "File \u001B[0;32m/usr/lib/python3.8/ctypes/__init__.py:451\u001B[0m, in \u001B[0;36mLibraryLoader.LoadLibrary\u001B[0;34m(self, name)\u001B[0m\n\u001B[1;32m    450\u001B[0m \u001B[38;5;28;01mdef\u001B[39;00m \u001B[38;5;21mLoadLibrary\u001B[39m(\u001B[38;5;28mself\u001B[39m, name):\n\u001B[0;32m--> 451\u001B[0m     \u001B[38;5;28;01mreturn\u001B[39;00m \u001B[38;5;28;43mself\u001B[39;49m\u001B[38;5;241;43m.\u001B[39;49m\u001B[43m_dlltype\u001B[49m\u001B[43m(\u001B[49m\u001B[43mname\u001B[49m\u001B[43m)\u001B[49m\n",
      "File \u001B[0;32m/usr/lib/python3.8/ctypes/__init__.py:373\u001B[0m, in \u001B[0;36mCDLL.__init__\u001B[0;34m(self, name, mode, handle, use_errno, use_last_error, winmode)\u001B[0m\n\u001B[1;32m    370\u001B[0m \u001B[38;5;28mself\u001B[39m\u001B[38;5;241m.\u001B[39m_FuncPtr \u001B[38;5;241m=\u001B[39m _FuncPtr\n\u001B[1;32m    372\u001B[0m \u001B[38;5;28;01mif\u001B[39;00m handle \u001B[38;5;129;01mis\u001B[39;00m \u001B[38;5;28;01mNone\u001B[39;00m:\n\u001B[0;32m--> 373\u001B[0m     \u001B[38;5;28mself\u001B[39m\u001B[38;5;241m.\u001B[39m_handle \u001B[38;5;241m=\u001B[39m \u001B[43m_dlopen\u001B[49m\u001B[43m(\u001B[49m\u001B[38;5;28;43mself\u001B[39;49m\u001B[38;5;241;43m.\u001B[39;49m\u001B[43m_name\u001B[49m\u001B[43m,\u001B[49m\u001B[43m \u001B[49m\u001B[43mmode\u001B[49m\u001B[43m)\u001B[49m\n\u001B[1;32m    374\u001B[0m \u001B[38;5;28;01melse\u001B[39;00m:\n\u001B[1;32m    375\u001B[0m     \u001B[38;5;28mself\u001B[39m\u001B[38;5;241m.\u001B[39m_handle \u001B[38;5;241m=\u001B[39m handle\n",
      "\u001B[0;31mOSError\u001B[0m: ./build/my-languages.so: cannot open shared object file: No such file or directory"
     ]
    }
   ],
   "source": [
    "from tree_sitter import Language, Parser\n",
    "\n",
    "PY_LANGUAGE = Language('./build/my-languages.so', 'python')\n",
    "\n",
    "python_parser = Parser()\n",
    "python_parser.set_language(PY_LANGUAGE)"
   ],
   "metadata": {
    "collapsed": false,
    "pycharm": {
     "name": "#%%\n"
    }
   }
  },
  {
   "cell_type": "code",
   "execution_count": 4,
   "outputs": [
    {
     "ename": "NameError",
     "evalue": "name 'python_parser' is not defined",
     "output_type": "error",
     "traceback": [
      "\u001B[0;31m---------------------------------------------------------------------------\u001B[0m",
      "\u001B[0;31mNameError\u001B[0m                                 Traceback (most recent call last)",
      "Input \u001B[0;32mIn [4]\u001B[0m, in \u001B[0;36m<cell line: 1>\u001B[0;34m()\u001B[0m\n\u001B[0;32m----> 1\u001B[0m tree \u001B[38;5;241m=\u001B[39m \u001B[43mpython_parser\u001B[49m\u001B[38;5;241m.\u001B[39mparse(\u001B[38;5;28mbytes\u001B[39m(\u001B[38;5;124m\"\"\"\u001B[39m\n\u001B[1;32m      2\u001B[0m \u001B[38;5;124mdef foo():\u001B[39m\n\u001B[1;32m      3\u001B[0m \u001B[38;5;124m    if bar:\u001B[39m\n\u001B[1;32m      4\u001B[0m \u001B[38;5;124m        baz()\u001B[39m\n\u001B[1;32m      5\u001B[0m \u001B[38;5;124m\"\"\"\u001B[39m, \u001B[38;5;124m\"\u001B[39m\u001B[38;5;124mutf8\u001B[39m\u001B[38;5;124m\"\u001B[39m))\n",
      "\u001B[0;31mNameError\u001B[0m: name 'python_parser' is not defined"
     ]
    }
   ],
   "source": [
    "tree = python_parser.parse(bytes(\"\"\"\n",
    "def foo():\n",
    "    if bar:\n",
    "        baz()\n",
    "\"\"\", \"utf8\"))"
   ],
   "metadata": {
    "collapsed": false,
    "pycharm": {
     "name": "#%%\n"
    }
   }
  },
  {
   "cell_type": "code",
   "execution_count": 6,
   "outputs": [],
   "source": [
    "root_node = tree.root_node\n",
    "assert root_node.type == 'module'\n",
    "assert root_node.start_point == (1, 0)\n",
    "assert root_node.end_point == (4,0)\n",
    "\n",
    "function_node = root_node.children[0]\n",
    "assert function_node.type == 'function_definition'\n",
    "assert function_node.child_by_field_name('name').type == 'identifier'\n",
    "\n",
    "function_name_node = function_node.children[1]\n",
    "assert function_name_node.type == 'identifier'\n",
    "assert function_name_node.start_point == (1, 4)\n",
    "assert function_name_node.end_point == (1, 7)\n",
    "\n",
    "assert root_node.sexp() == \"(module \" \"(function_definition \" \"name: (identifier) \" \"parameters: (parameters) \" \"body: (block \" \"(if_statement \" \"condition: (identifier) \" \"consequence: (block \" \"(expression_statement (call \" \"function: (identifier) \" \"arguments: (argument_list))))))))\""
   ],
   "metadata": {
    "collapsed": false,
    "pycharm": {
     "name": "#%%\n"
    }
   }
  },
  {
   "cell_type": "code",
   "execution_count": 11,
   "outputs": [
    {
     "name": "stdout",
     "output_type": "stream",
     "text": [
      "<Node kind=module, start_point=(1, 0), end_point=(4, 0)>\n",
      "module\n"
     ]
    }
   ],
   "source": [
    "cursor = tree.walk()\n",
    "\n",
    "assert cursor.node.type == 'module'\n",
    "\n",
    "print(cursor.node)\n",
    "print(cursor.node.type)\n",
    "\n",
    "cursor.goto_first_child()\n",
    "assert cursor.node.type == 'function_definition'\n",
    "\n",
    "\n",
    "assert cursor.goto_first_child()\n",
    "assert cursor.node.type == 'def'\n",
    "\n",
    "# Returns `False` because the `def` node has no children\n",
    "assert not cursor.goto_first_child()\n",
    "\n",
    "assert cursor.goto_next_sibling()\n",
    "assert cursor.node.type == 'identifier'\n",
    "\n",
    "assert cursor.goto_next_sibling()\n",
    "assert cursor.node.type == 'parameters'\n",
    "\n",
    "assert cursor.goto_parent()\n",
    "assert cursor.node.type == 'function_definition'"
   ],
   "metadata": {
    "collapsed": false,
    "pycharm": {
     "name": "#%%\n"
    }
   }
  },
  {
   "cell_type": "code",
   "execution_count": null,
   "outputs": [],
   "source": [],
   "metadata": {
    "collapsed": false,
    "pycharm": {
     "name": "#%%\n"
    }
   }
  }
 ],
 "metadata": {
  "kernelspec": {
   "display_name": "Python 3",
   "language": "python",
   "name": "python3"
  },
  "language_info": {
   "codemirror_mode": {
    "name": "ipython",
    "version": 2
   },
   "file_extension": ".py",
   "mimetype": "text/x-python",
   "name": "python",
   "nbconvert_exporter": "python",
   "pygments_lexer": "ipython2",
   "version": "2.7.6"
  }
 },
 "nbformat": 4,
 "nbformat_minor": 0
}