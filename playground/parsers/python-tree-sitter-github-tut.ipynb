{
 "cells": [
  {
   "cell_type": "code",
   "execution_count": 2,
   "outputs": [],
   "source": [
    "from tree_sitter import Language, Parser\n",
    "\n",
    "PY_LANGUAGE = Language('./build/my-languages.so', 'python')\n",
    "\n",
    "python_parser = Parser()\n",
    "python_parser.set_language(PY_LANGUAGE)"
   ],
   "metadata": {
    "collapsed": false,
    "pycharm": {
     "name": "#%%\n"
    }
   }
  },
  {
   "cell_type": "code",
   "execution_count": 3,
   "outputs": [],
   "source": [
    "tree = python_parser.parse(bytes(\"\"\"\n",
    "def foo():\n",
    "    if bar:\n",
    "        baz()\n",
    "\"\"\", \"utf8\"))"
   ],
   "metadata": {
    "collapsed": false,
    "pycharm": {
     "name": "#%%\n"
    }
   }
  },
  {
   "cell_type": "code",
   "execution_count": 6,
   "outputs": [],
   "source": [
    "root_node = tree.root_node\n",
    "assert root_node.type == 'module'\n",
    "assert root_node.start_point == (1, 0)\n",
    "assert root_node.end_point == (4,0)\n",
    "\n",
    "function_node = root_node.children[0]\n",
    "assert function_node.type == 'function_definition'\n",
    "assert function_node.child_by_field_name('name').type == 'identifier'\n",
    "\n",
    "function_name_node = function_node.children[1]\n",
    "assert function_name_node.type == 'identifier'\n",
    "assert function_name_node.start_point == (1, 4)\n",
    "assert function_name_node.end_point == (1, 7)\n",
    "\n",
    "assert root_node.sexp() == \"(module \" \"(function_definition \" \"name: (identifier) \" \"parameters: (parameters) \" \"body: (block \" \"(if_statement \" \"condition: (identifier) \" \"consequence: (block \" \"(expression_statement (call \" \"function: (identifier) \" \"arguments: (argument_list))))))))\""
   ],
   "metadata": {
    "collapsed": false,
    "pycharm": {
     "name": "#%%\n"
    }
   }
  },
  {
   "cell_type": "code",
   "execution_count": 11,
   "outputs": [
    {
     "name": "stdout",
     "output_type": "stream",
     "text": [
      "<Node kind=module, start_point=(1, 0), end_point=(4, 0)>\n",
      "module\n"
     ]
    }
   ],
   "source": [
    "cursor = tree.walk()\n",
    "\n",
    "assert cursor.node.type == 'module'\n",
    "\n",
    "print(cursor.node)\n",
    "print(cursor.node.type)\n",
    "\n",
    "cursor.goto_first_child()\n",
    "assert cursor.node.type == 'function_definition'\n",
    "\n",
    "\n",
    "assert cursor.goto_first_child()\n",
    "assert cursor.node.type == 'def'\n",
    "\n",
    "# Returns `False` because the `def` node has no children\n",
    "assert not cursor.goto_first_child()\n",
    "\n",
    "assert cursor.goto_next_sibling()\n",
    "assert cursor.node.type == 'identifier'\n",
    "\n",
    "assert cursor.goto_next_sibling()\n",
    "assert cursor.node.type == 'parameters'\n",
    "\n",
    "assert cursor.goto_parent()\n",
    "assert cursor.node.type == 'function_definition'"
   ],
   "metadata": {
    "collapsed": false,
    "pycharm": {
     "name": "#%%\n"
    }
   }
  },
  {
   "cell_type": "code",
   "execution_count": null,
   "outputs": [],
   "source": [],
   "metadata": {
    "collapsed": false,
    "pycharm": {
     "name": "#%%\n"
    }
   }
  }
 ],
 "metadata": {
  "kernelspec": {
   "display_name": "Python 3",
   "language": "python",
   "name": "python3"
  },
  "language_info": {
   "codemirror_mode": {
    "name": "ipython",
    "version": 2
   },
   "file_extension": ".py",
   "mimetype": "text/x-python",
   "name": "python",
   "nbconvert_exporter": "python",
   "pygments_lexer": "ipython2",
   "version": "2.7.6"
  }
 },
 "nbformat": 4,
 "nbformat_minor": 0
}