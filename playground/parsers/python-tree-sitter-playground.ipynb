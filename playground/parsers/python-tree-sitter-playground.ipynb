{
 "cells": [
  {
   "cell_type": "code",
   "execution_count": 1,
   "metadata": {
    "collapsed": true,
    "pycharm": {
     "name": "#%%\n"
    }
   },
   "outputs": [],
   "source": [
    "from tree_sitter import Language, Parser\n",
    "\n",
    "PY_LANGUAGE = Language('./build/my-languages.so', 'python')\n",
    "\n",
    "python_parser = Parser()\n",
    "python_parser.set_language(PY_LANGUAGE)"
   ]
  },
  {
   "cell_type": "code",
   "execution_count": 3,
   "outputs": [],
   "source": [
    "tree = python_parser.parse(bytes(\"\"\"\n",
    "import numpy as np\n",
    "\n",
    "def perform_bernoulli_trials(n, p):\n",
    "\n",
    "    # Initialize number of successes: n_success\n",
    "    n_success = 0\n",
    "\n",
    "    # Perform trials\n",
    "    for i in range(n):\n",
    "        # Choose random number between zero and one: random_number\n",
    "        random_number = np.random.random()\n",
    "\n",
    "        # If less than p, it's a success so add one to n_success\n",
    "        if random_number < p:\n",
    "            n_success += 1\n",
    "\n",
    "    return n_success\n",
    "\"\"\", \"utf8\"))"
   ],
   "metadata": {
    "collapsed": false,
    "pycharm": {
     "name": "#%%\n"
    }
   }
  },
  {
   "cell_type": "code",
   "execution_count": 10,
   "outputs": [
    {
     "data": {
      "text/plain": "<Node kind=module, start_point=(1, 0), end_point=(18, 0)>"
     },
     "execution_count": 10,
     "metadata": {},
     "output_type": "execute_result"
    }
   ],
   "source": [
    "tree.root_node\n",
    "# what does 18 here specifically mean? it is not the nodes amount, there are more\n",
    "# no edges as an accessible object?"
   ],
   "metadata": {
    "collapsed": false,
    "pycharm": {
     "name": "#%%\n"
    }
   }
  },
  {
   "cell_type": "code",
   "execution_count": 97,
   "outputs": [
    {
     "name": "stdout",
     "output_type": "stream",
     "text": [
      "def\n",
      "identifier\n",
      "parameters\n",
      ":\n",
      "comment\n",
      "block\n",
      "expression_statement\n",
      "comment\n",
      "for_statement\n",
      "for\n",
      "identifier\n",
      "in\n",
      "call\n",
      ":\n",
      "comment\n",
      "block\n",
      "expression_statement\n",
      "comment\n",
      "if_statement\n",
      "if\n",
      "comparison_operator\n",
      ":\n",
      "block\n",
      "expression_statement\n",
      "augmented_assignment\n",
      "identifier\n",
      "+=\n",
      "integer\n"
     ]
    }
   ],
   "source": [
    "# this is a step by step tree traversal to get familiar with tree-sitter tree structure, should be converted into a recursive function\n",
    "cursor = tree.walk()\n",
    "cursor.goto_first_child()\n",
    "cursor.goto_next_sibling()\n",
    "# no coming back to the previous sibling? so basically a linked list\n",
    "cursor.goto_first_child()\n",
    "print(cursor.node.type)\n",
    "cursor.goto_next_sibling()\n",
    "print(cursor.node.type)\n",
    "cursor.goto_next_sibling()\n",
    "print(cursor.node.type)\n",
    "cursor.goto_next_sibling()\n",
    "print(cursor.node.type)\n",
    "cursor.goto_next_sibling()\n",
    "print(cursor.node.type)\n",
    "cursor.goto_next_sibling()\n",
    "print(cursor.node.type)\n",
    "cursor.goto_first_child()\n",
    "print(cursor.node.type)\n",
    "cursor.goto_next_sibling()\n",
    "print(cursor.node.type)\n",
    "cursor.goto_next_sibling()\n",
    "print(cursor.node.type)\n",
    "cursor.goto_first_child()\n",
    "print(cursor.node.type)\n",
    "cursor.goto_next_sibling()\n",
    "print(cursor.node.type)\n",
    "cursor.goto_next_sibling()\n",
    "print(cursor.node.type)\n",
    "cursor.goto_next_sibling()\n",
    "print(cursor.node.type)\n",
    "cursor.goto_next_sibling()\n",
    "print(cursor.node.type)\n",
    "cursor.goto_next_sibling()\n",
    "print(cursor.node.type)\n",
    "cursor.goto_next_sibling()\n",
    "print(cursor.node.type)\n",
    "cursor.goto_first_child()\n",
    "print(cursor.node.type)\n",
    "cursor.goto_next_sibling()\n",
    "print(cursor.node.type)\n",
    "cursor.goto_next_sibling()\n",
    "print(cursor.node.type)\n",
    "cursor.goto_first_child()\n",
    "print(cursor.node.type)\n",
    "cursor.goto_next_sibling()\n",
    "print(cursor.node.type)\n",
    "cursor.goto_next_sibling()\n",
    "print(cursor.node.type)\n",
    "cursor.goto_next_sibling()\n",
    "print(cursor.node.type)\n",
    "cursor.goto_first_child()\n",
    "print(cursor.node.type)\n",
    "cursor.goto_first_child()\n",
    "print(cursor.node.type)\n",
    "cursor.goto_first_child()\n",
    "print(cursor.node.type)\n",
    "cursor.goto_next_sibling()\n",
    "print(cursor.node.type)\n",
    "cursor.goto_next_sibling()\n",
    "print(cursor.node.type)"
   ],
   "metadata": {
    "collapsed": false,
    "pycharm": {
     "name": "#%%\n"
    }
   }
  }
 ],
 "metadata": {
  "kernelspec": {
   "display_name": "Python 3",
   "language": "python",
   "name": "python3"
  },
  "language_info": {
   "codemirror_mode": {
    "name": "ipython",
    "version": 2
   },
   "file_extension": ".py",
   "mimetype": "text/x-python",
   "name": "python",
   "nbconvert_exporter": "python",
   "pygments_lexer": "ipython2",
   "version": "2.7.6"
  }
 },
 "nbformat": 4,
 "nbformat_minor": 0
}