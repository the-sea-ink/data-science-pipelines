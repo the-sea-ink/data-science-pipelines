{
 "cells": [
  {
   "cell_type": "code",
   "execution_count": 11,
   "outputs": [],
   "source": [
    "from tree_sitter import Language, Parser\n",
    "\n",
    "R_LANGUAGE = Language('./build/my-languages.so', 'r')\n",
    "\n",
    "r_parser = Parser()\n",
    "r_parser.set_language(R_LANGUAGE)"
   ],
   "metadata": {
    "collapsed": false,
    "pycharm": {
     "name": "#%%\n"
    }
   }
  },
  {
   "cell_type": "code",
   "execution_count": 7,
   "outputs": [
    {
     "data": {
      "text/plain": "<Node kind=program, start_point=(1, 0), end_point=(2, 0)>"
     },
     "execution_count": 7,
     "metadata": {},
     "output_type": "execute_result"
    }
   ],
   "source": [
    "tree = r_parser.parse(bytes(\"\"\"\n",
    "myString <- \"Hello, World!\"\n",
    "\"\"\", \"utf8\"))\n",
    "tree.root_node"
   ],
   "metadata": {
    "collapsed": false,
    "pycharm": {
     "name": "#%%\n"
    }
   }
  },
  {
   "cell_type": "code",
   "execution_count": 10,
   "outputs": [],
   "source": [
    "root_node = tree.root_node\n",
    "assert root_node.type == 'program'\n",
    "assert root_node.start_point == (1, 0)\n",
    "assert root_node.end_point == (2,0)"
   ],
   "metadata": {
    "collapsed": false,
    "pycharm": {
     "name": "#%%\n"
    }
   }
  }
 ],
 "metadata": {
  "kernelspec": {
   "display_name": "Python 3",
   "language": "python",
   "name": "python3"
  },
  "language_info": {
   "codemirror_mode": {
    "name": "ipython",
    "version": 2
   },
   "file_extension": ".py",
   "mimetype": "text/x-python",
   "name": "python",
   "nbconvert_exporter": "python",
   "pygments_lexer": "ipython2",
   "version": "2.7.6"
  }
 },
 "nbformat": 4,
 "nbformat_minor": 0
}