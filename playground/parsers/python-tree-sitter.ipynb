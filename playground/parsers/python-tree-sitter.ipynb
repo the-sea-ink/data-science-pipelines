{
 "cells": [
  {
   "cell_type": "code",
   "execution_count": 63,
   "outputs": [],
   "source": [
    "from tree_sitter import Language, Parser\n",
    "\n",
    "PY_LANGUAGE = Language('./build/my-languages.so', 'python')\n",
    "\n",
    "python_parser = Parser()\n",
    "python_parser.set_language(PY_LANGUAGE)"
   ],
   "metadata": {
    "collapsed": false,
    "pycharm": {
     "name": "#%%\n"
    }
   }
  },
  {
   "cell_type": "code",
   "execution_count": 41,
   "outputs": [],
   "source": [
    "tree = python_parser.parse(bytes(\"\"\"\n",
    "def foo():\n",
    "    if bar:\n",
    "        baz()\n",
    "\"\"\", \"utf8\"))"
   ],
   "metadata": {
    "collapsed": false,
    "pycharm": {
     "name": "#%%\n"
    }
   }
  },
  {
   "cell_type": "code",
   "execution_count": 48,
   "outputs": [
    {
     "data": {
      "text/plain": "<Node kind=module, start_point=(1, 0), end_point=(4, 0)>"
     },
     "execution_count": 48,
     "metadata": {},
     "output_type": "execute_result"
    }
   ],
   "source": [
    "tree.root_node"
   ],
   "metadata": {
    "collapsed": false,
    "pycharm": {
     "name": "#%%\n"
    }
   }
  },
  {
   "cell_type": "code",
   "execution_count": 51,
   "outputs": [],
   "source": [
    "root_node = tree.root_node\n",
    "assert root_node.type == 'module'\n",
    "assert root_node.start_point == (1, 0)\n",
    "assert root_node.end_point == (4,0)\n",
    "\n",
    "function_node = root_node.children[0]\n",
    "assert function_node.type == 'function_definition'\n",
    "assert function_node.child_by_field_name('name').type == 'identifier'\n",
    "\n",
    "function_name_node = function_node.children[1]\n",
    "assert function_name_node.type == 'identifier'\n",
    "assert function_name_node.start_point == (1, 4)\n",
    "assert function_name_node.end_point == (1, 7)\n",
    "\n",
    "assert root_node.sexp() == \"(module \" \"(function_definition \" \"name: (identifier) \" \"parameters: (parameters) \" \"body: (block \" \"(if_statement \" \"condition: (identifier) \" \"consequence: (block \" \"(expression_statement (call \" \"function: (identifier) \" \"arguments: (argument_list))))))))\"\n"
   ],
   "metadata": {
    "collapsed": false,
    "pycharm": {
     "name": "#%%\n"
    }
   }
  }
 ],
 "metadata": {
  "kernelspec": {
   "display_name": "Python 3",
   "language": "python",
   "name": "python3"
  },
  "language_info": {
   "codemirror_mode": {
    "name": "ipython",
    "version": 2
   },
   "file_extension": ".py",
   "mimetype": "text/x-python",
   "name": "python",
   "nbconvert_exporter": "python",
   "pygments_lexer": "ipython2",
   "version": "2.7.6"
  }
 },
 "nbformat": 4,
 "nbformat_minor": 0
}