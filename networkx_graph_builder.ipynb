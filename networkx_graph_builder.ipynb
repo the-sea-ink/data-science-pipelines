{
 "cells": [
  {
   "cell_type": "code",
   "execution_count": 3,
   "metadata": {
    "pycharm": {
     "name": "#%%\n"
    }
   },
   "outputs": [],
   "source": [
    "from tree_sitter import Language, Parser\n",
    "import networkx as nx\n",
    "import matplotlib.pyplot as plt\n",
    "from regraph import NXGraph, Rule\n",
    "from regraph import plot_graph, plot_instance, plot_rule"
   ]
  },
  {
   "cell_type": "code",
   "execution_count": 4,
   "metadata": {
    "pycharm": {
     "name": "#%%\n"
    }
   },
   "outputs": [],
   "source": [
    "code_1 = \"\"\"\n",
    "import numpy as np\n",
    "\n",
    "def perform_bernoulli_trials(n, p):\n",
    "\n",
    "    # Initialize number of successes: n_success\n",
    "    n_success = 0\n",
    "\n",
    "    # Perform trials\n",
    "    for i in range(n):\n",
    "        # Choose random number between zero and one: random_number\n",
    "        random_number = np.random.random()\n",
    "\n",
    "        # If less than p, it's a success so add one to n_success\n",
    "        if random_number < p:\n",
    "            n_success += 1\n",
    "\n",
    "    return n_success\n",
    "\"\"\"\n",
    "\n",
    "code_2 = \"\"\"\n",
    "import numpy as np\n",
    "\n",
    "def perform_bernoulli_trials(n, p):\n",
    "\n",
    "    # Initialize number of successes: n_success\n",
    "    n_success = 0\n",
    "\n",
    "    return n_success\n",
    "\"\"\"\n",
    "\n",
    "code_3 = \"\"\"\n",
    "import numpy as np\n",
    "import libs as l\n",
    "\n",
    "def perform_bernoulli_trials(n, p):\n",
    "\n",
    "    # Initialize number of successes: n_success\n",
    "    n_success = 0\n",
    "    return n_success\n",
    "    \n",
    "print(\"Python is great!\")\n",
    "\n",
    "np.ndarray(size=(5,5))\n",
    "\n",
    "x = 5 * 3\n",
    "\"\"\""
   ]
  },
  {
   "cell_type": "code",
   "execution_count": 11,
   "metadata": {},
   "outputs": [],
   "source": [
    "def py_init():\n",
    "    Language.build_library(\n",
    "        # Store the library in the `build` directory\n",
    "        'build/my-languages.so',\n",
    "\n",
    "        # Include one or more languages\n",
    "        [\n",
    "            'tree-sitter-python'\n",
    "        ]\n",
    "    )\n",
    "\n",
    "\n",
    "def r_init():\n",
    "    Language.build_library(\n",
    "        # Store the library in the `build` directory\n",
    "        'build/my-languages.so',\n",
    "\n",
    "        # Include one or more languages\n",
    "        [\n",
    "            'tree-sitter-r'\n",
    "        ]\n",
    "    )"
   ]
  },
  {
   "cell_type": "code",
   "execution_count": 12,
   "metadata": {},
   "outputs": [],
   "source": [
    "py_init()"
   ]
  },
  {
   "cell_type": "code",
   "execution_count": 13,
   "metadata": {
    "pycharm": {
     "name": "#%%\n"
    }
   },
   "outputs": [],
   "source": [
    "PY_LANGUAGE = Language('build/my-languages.so', 'python')\n",
    "python_parser = Parser()\n",
    "python_parser.set_language(PY_LANGUAGE)"
   ]
  },
  {
   "cell_type": "code",
   "execution_count": 6,
   "metadata": {
    "pycharm": {
     "name": "#%%\n"
    }
   },
   "outputs": [],
   "source": [
    "def parse_py(code):\n",
    "    \n",
    "    # get a tree\n",
    "    tree = python_parser.parse(bytes(code, \"utf8\"))\n",
    "\n",
    "    # traverse tree to get nodes & edges\n",
    "    G = NXGraph()\n",
    "    \n",
    "    G = bfs_tree_traverser(tree.root_node, G)\n",
    "    return G"
   ]
  },
  {
   "cell_type": "code",
   "execution_count": 7,
   "metadata": {
    "pycharm": {
     "name": "#%%\n"
    }
   },
   "outputs": [],
   "source": [
    "def bfs_tree_traverser(root_node, G):\n",
    "    # node_id = id of current node being traversed\n",
    "    # parent_id = id of the parent of the current node\n",
    "    node_id, parent_id = 0, 0\n",
    "    # lists to queue the nodes in order and identify already visited nodes\n",
    "    visited, queue = [], []\n",
    "\n",
    "    visited.append(root_node)\n",
    "    queue.append(root_node)\n",
    "\n",
    "    # add root_node to the graph\n",
    "    G.add_node(0, attrs={\"type\": root_node.type, \"text\": root_node.text})\n",
    "\n",
    "    # loop to visit each node\n",
    "    while queue:\n",
    "        node = queue.pop(0)\n",
    "\n",
    "        for child_node in node.children:\n",
    "            if child_node not in visited:\n",
    "                node_id += 1\n",
    "                # add child node to graph\n",
    "                G.add_node(node_id, attrs={\"type\": child_node.type, \"text\": child_node.text, \"parent_id\":parent_id})\n",
    "                # add edge between parent_node and child_node\n",
    "                G.add_edge(parent_id, node_id)\n",
    "\n",
    "                visited.append(child_node)\n",
    "                queue.append(child_node)\n",
    "\n",
    "        # set parent_id to the id of the next node in queue\n",
    "        parent_id = parent_id + 1\n",
    "\n",
    "    return G"
   ]
  },
  {
   "cell_type": "code",
   "execution_count": 8,
   "metadata": {
    "pycharm": {
     "name": "#%%\n"
    }
   },
   "outputs": [
    {
     "ename": "NameError",
     "evalue": "name 'python_parser' is not defined",
     "output_type": "error",
     "traceback": [
      "\u001b[0;31m---------------------------------------------------------------------------\u001b[0m",
      "\u001b[0;31mNameError\u001b[0m                                 Traceback (most recent call last)",
      "Input \u001b[0;32mIn [8]\u001b[0m, in \u001b[0;36m<cell line: 1>\u001b[0;34m()\u001b[0m\n\u001b[0;32m----> 1\u001b[0m G \u001b[38;5;241m=\u001b[39m \u001b[43mparse_py\u001b[49m\u001b[43m(\u001b[49m\u001b[43mcode_3\u001b[49m\u001b[43m)\u001b[49m\n\u001b[1;32m      2\u001b[0m \u001b[38;5;28mtype\u001b[39m(G)\n",
      "Input \u001b[0;32mIn [6]\u001b[0m, in \u001b[0;36mparse_py\u001b[0;34m(code)\u001b[0m\n\u001b[1;32m      1\u001b[0m \u001b[38;5;28;01mdef\u001b[39;00m \u001b[38;5;21mparse_py\u001b[39m(code):\n\u001b[1;32m      2\u001b[0m     \n\u001b[1;32m      3\u001b[0m     \u001b[38;5;66;03m# get a tree\u001b[39;00m\n\u001b[0;32m----> 4\u001b[0m     tree \u001b[38;5;241m=\u001b[39m \u001b[43mpython_parser\u001b[49m\u001b[38;5;241m.\u001b[39mparse(\u001b[38;5;28mbytes\u001b[39m(code, \u001b[38;5;124m\"\u001b[39m\u001b[38;5;124mutf8\u001b[39m\u001b[38;5;124m\"\u001b[39m))\n\u001b[1;32m      6\u001b[0m     \u001b[38;5;66;03m# traverse tree to get nodes & edges\u001b[39;00m\n\u001b[1;32m      7\u001b[0m     G \u001b[38;5;241m=\u001b[39m NXGraph()\n",
      "\u001b[0;31mNameError\u001b[0m: name 'python_parser' is not defined"
     ]
    }
   ],
   "source": [
    "G = parse_py(code_3)\n",
    "type(G)"
   ]
  },
  {
   "cell_type": "code",
   "execution_count": 9,
   "metadata": {
    "pycharm": {
     "name": "#%%\n"
    }
   },
   "outputs": [
    {
     "ename": "NameError",
     "evalue": "name 'G' is not defined",
     "output_type": "error",
     "traceback": [
      "\u001b[0;31m---------------------------------------------------------------------------\u001b[0m",
      "\u001b[0;31mNameError\u001b[0m                                 Traceback (most recent call last)",
      "Input \u001b[0;32mIn [9]\u001b[0m, in \u001b[0;36m<cell line: 1>\u001b[0;34m()\u001b[0m\n\u001b[0;32m----> 1\u001b[0m pattern_from_graph \u001b[38;5;241m=\u001b[39m \u001b[43mG\u001b[49m\n\u001b[1;32m      2\u001b[0m rule3 \u001b[38;5;241m=\u001b[39m Rule\u001b[38;5;241m.\u001b[39mfrom_transform(pattern_from_graph)\n\u001b[1;32m      3\u001b[0m plot_rule(rule3)\n",
      "\u001b[0;31mNameError\u001b[0m: name 'G' is not defined"
     ]
    }
   ],
   "source": [
    "pattern_from_graph = G\n",
    "rule3 = Rule.from_transform(pattern_from_graph)\n",
    "plot_rule(rule3)"
   ]
  },
  {
   "cell_type": "markdown",
   "metadata": {
    "pycharm": {
     "name": "#%% md\n"
    }
   },
   "source": [
    "--------------------------------------"
   ]
  },
  {
   "cell_type": "markdown",
   "metadata": {},
   "source": [
    "<h2>Graph Simplification by Node Generalization</h2>"
   ]
  },
  {
   "cell_type": "code",
   "execution_count": 11,
   "metadata": {
    "pycharm": {
     "name": "#%%\n"
    },
    "scrolled": false
   },
   "outputs": [
    {
     "name": "stdout",
     "output_type": "stream",
     "text": [
      "List of nodes: \n",
      "\t 0 {'type': {'module'}, 'text': {b'import numpy as np\\nimport libs as l\\n\\ndef perform_bernoulli_trials(n, p):\\n\\n    # Initialize number of successes: n_success\\n    n_success = 0\\n    return n_success\\n    \\nprint(\"Python is great!\")\\n\\nnp.ndarray(size=(5,5))\\n\\nx = 5 * 3\\n'}}\n",
      "\t 1 {'type': {'import_statement'}, 'text': {b'import numpy as np'}, 'parent_id': {0}}\n",
      "\t 2 {'type': {'import_statement'}, 'text': {b'import libs as l'}, 'parent_id': {0}}\n",
      "\t 3 {'type': {'function_definition'}, 'text': {b'def perform_bernoulli_trials(n, p):\\n\\n    # Initialize number of successes: n_success\\n    n_success = 0\\n    return n_success'}, 'parent_id': {0}}\n",
      "\t 4 {'type': {'expression_statement'}, 'text': {b'print(\"Python is great!\")'}, 'parent_id': {0}}\n",
      "\t 5 {'type': {'expression_statement'}, 'text': {b'np.ndarray(size=(5,5))'}, 'parent_id': {0}}\n",
      "\t 6 {'type': {'expression_statement'}, 'text': {b'x = 5 * 3'}, 'parent_id': {0}}\n",
      "\t 7 {'type': {'import'}, 'text': {b'import'}, 'parent_id': {1}}\n",
      "\t 8 {'type': {'aliased_import'}, 'text': {b'numpy as np'}, 'parent_id': {1}}\n",
      "\t 9 {'type': {'import'}, 'text': {b'import'}, 'parent_id': {2}}\n",
      "\t 10 {'type': {'aliased_import'}, 'text': {b'libs as l'}, 'parent_id': {2}}\n",
      "\t 11 {'type': {'def'}, 'text': {b'def'}, 'parent_id': {3}}\n",
      "\t 12 {'type': {'identifier'}, 'text': {b'perform_bernoulli_trials'}, 'parent_id': {3}}\n",
      "\t 13 {'type': {'parameters'}, 'text': {b'(n, p)'}, 'parent_id': {3}}\n",
      "\t 14 {'type': {':'}, 'text': {b':'}, 'parent_id': {3}}\n",
      "\t 15 {'type': {'comment'}, 'text': {b'# Initialize number of successes: n_success'}, 'parent_id': {3}}\n",
      "\t 16 {'type': {'block'}, 'text': {b'n_success = 0\\n    return n_success'}, 'parent_id': {3}}\n",
      "\t 17 {'type': {'call'}, 'text': {b'print(\"Python is great!\")'}, 'parent_id': {4}}\n",
      "\t 18 {'type': {'call'}, 'text': {b'np.ndarray(size=(5,5))'}, 'parent_id': {5}}\n",
      "\t 19 {'type': {'assignment'}, 'text': {b'x = 5 * 3'}, 'parent_id': {6}}\n",
      "\t 20 {'type': {'dotted_name'}, 'text': {b'numpy'}, 'parent_id': {8}}\n",
      "\t 21 {'type': {'as'}, 'text': {b'as'}, 'parent_id': {8}}\n",
      "\t 22 {'type': {'identifier'}, 'text': {b'np'}, 'parent_id': {8}}\n",
      "\t 23 {'type': {'dotted_name'}, 'text': {b'libs'}, 'parent_id': {10}}\n",
      "\t 24 {'type': {'as'}, 'text': {b'as'}, 'parent_id': {10}}\n",
      "\t 25 {'type': {'identifier'}, 'text': {b'l'}, 'parent_id': {10}}\n",
      "\t 26 {'type': {'('}, 'text': {b'('}, 'parent_id': {13}}\n",
      "\t 27 {'type': {'identifier'}, 'text': {b'n'}, 'parent_id': {13}}\n",
      "\t 28 {'type': {','}, 'text': {b','}, 'parent_id': {13}}\n",
      "\t 29 {'type': {'identifier'}, 'text': {b'p'}, 'parent_id': {13}}\n",
      "\t 30 {'type': {')'}, 'text': {b')'}, 'parent_id': {13}}\n",
      "\t 31 {'type': {'expression_statement'}, 'text': {b'n_success = 0'}, 'parent_id': {16}}\n",
      "\t 32 {'type': {'return_statement'}, 'text': {b'return n_success'}, 'parent_id': {16}}\n",
      "\t 33 {'type': {'identifier'}, 'text': {b'print'}, 'parent_id': {17}}\n",
      "\t 34 {'type': {'argument_list'}, 'text': {b'(\"Python is great!\")'}, 'parent_id': {17}}\n",
      "\t 35 {'type': {'attribute'}, 'text': {b'np.ndarray'}, 'parent_id': {18}}\n",
      "\t 36 {'type': {'argument_list'}, 'text': {b'(size=(5,5))'}, 'parent_id': {18}}\n",
      "\t 37 {'type': {'identifier'}, 'text': {b'x'}, 'parent_id': {19}}\n",
      "\t 38 {'type': {'='}, 'text': {b'='}, 'parent_id': {19}}\n",
      "\t 39 {'type': {'binary_operator'}, 'text': {b'5 * 3'}, 'parent_id': {19}}\n",
      "\t 40 {'type': {'identifier'}, 'text': {b'numpy'}, 'parent_id': {20}}\n",
      "\t 41 {'type': {'identifier'}, 'text': {b'libs'}, 'parent_id': {23}}\n",
      "\t 42 {'type': {'assignment'}, 'text': {b'n_success = 0'}, 'parent_id': {31}}\n",
      "\t 43 {'type': {'return'}, 'text': {b'return'}, 'parent_id': {32}}\n",
      "\t 44 {'type': {'identifier'}, 'text': {b'n_success'}, 'parent_id': {32}}\n",
      "\t 45 {'type': {'('}, 'text': {b'('}, 'parent_id': {34}}\n",
      "\t 46 {'type': {'string'}, 'text': {b'\"Python is great!\"'}, 'parent_id': {34}}\n",
      "\t 47 {'type': {')'}, 'text': {b')'}, 'parent_id': {34}}\n",
      "\t 48 {'type': {'identifier'}, 'text': {b'np'}, 'parent_id': {35}}\n",
      "\t 49 {'type': {'.'}, 'text': {b'.'}, 'parent_id': {35}}\n",
      "\t 50 {'type': {'identifier'}, 'text': {b'ndarray'}, 'parent_id': {35}}\n",
      "\t 51 {'type': {'('}, 'text': {b'('}, 'parent_id': {36}}\n",
      "\t 52 {'type': {'keyword_argument'}, 'text': {b'size=(5,5)'}, 'parent_id': {36}}\n",
      "\t 53 {'type': {')'}, 'text': {b')'}, 'parent_id': {36}}\n",
      "\t 54 {'type': {'integer'}, 'text': {b'5'}, 'parent_id': {39}}\n",
      "\t 55 {'type': {'*'}, 'text': {b'*'}, 'parent_id': {39}}\n",
      "\t 56 {'type': {'integer'}, 'text': {b'3'}, 'parent_id': {39}}\n",
      "\t 57 {'type': {'identifier'}, 'text': {b'n_success'}, 'parent_id': {42}}\n",
      "\t 58 {'type': {'='}, 'text': {b'='}, 'parent_id': {42}}\n",
      "\t 59 {'type': {'integer'}, 'text': {b'0'}, 'parent_id': {42}}\n",
      "\t 60 {'type': {'\"'}, 'text': {b'\"'}, 'parent_id': {46}}\n",
      "\t 61 {'type': {'\"'}, 'text': {b'\"'}, 'parent_id': {46}}\n",
      "\t 62 {'type': {'identifier'}, 'text': {b'size'}, 'parent_id': {52}}\n",
      "\t 63 {'type': {'='}, 'text': {b'='}, 'parent_id': {52}}\n",
      "\t 64 {'type': {'tuple'}, 'text': {b'(5,5)'}, 'parent_id': {52}}\n",
      "\t 65 {'type': {'('}, 'text': {b'('}, 'parent_id': {64}}\n",
      "\t 66 {'type': {'integer'}, 'text': {b'5'}, 'parent_id': {64}}\n",
      "\t 67 {'type': {','}, 'text': {b','}, 'parent_id': {64}}\n",
      "\t 68 {'type': {'integer'}, 'text': {b'5'}, 'parent_id': {64}}\n",
      "\t 69 {'type': {')'}, 'text': {b')'}, 'parent_id': {64}}\n",
      "List of edges: \n",
      "\t0->1 {}\n",
      "\t0->2 {}\n",
      "\t0->3 {}\n",
      "\t0->4 {}\n",
      "\t0->5 {}\n",
      "\t0->6 {}\n",
      "\t1->7 {}\n",
      "\t1->8 {}\n",
      "\t2->9 {}\n",
      "\t2->10 {}\n",
      "\t3->11 {}\n",
      "\t3->12 {}\n",
      "\t3->13 {}\n",
      "\t3->14 {}\n",
      "\t3->15 {}\n",
      "\t3->16 {}\n",
      "\t4->17 {}\n",
      "\t5->18 {}\n",
      "\t6->19 {}\n",
      "\t8->20 {}\n",
      "\t8->21 {}\n",
      "\t8->22 {}\n",
      "\t10->23 {}\n",
      "\t10->24 {}\n",
      "\t10->25 {}\n",
      "\t13->26 {}\n",
      "\t13->27 {}\n",
      "\t13->28 {}\n",
      "\t13->29 {}\n",
      "\t13->30 {}\n",
      "\t16->31 {}\n",
      "\t16->32 {}\n",
      "\t17->33 {}\n",
      "\t17->34 {}\n",
      "\t18->35 {}\n",
      "\t18->36 {}\n",
      "\t19->37 {}\n",
      "\t19->38 {}\n",
      "\t19->39 {}\n",
      "\t20->40 {}\n",
      "\t23->41 {}\n",
      "\t31->42 {}\n",
      "\t32->43 {}\n",
      "\t32->44 {}\n",
      "\t34->45 {}\n",
      "\t34->46 {}\n",
      "\t34->47 {}\n",
      "\t35->48 {}\n",
      "\t35->49 {}\n",
      "\t35->50 {}\n",
      "\t36->51 {}\n",
      "\t36->52 {}\n",
      "\t36->53 {}\n",
      "\t39->54 {}\n",
      "\t39->55 {}\n",
      "\t39->56 {}\n",
      "\t42->57 {}\n",
      "\t42->58 {}\n",
      "\t42->59 {}\n",
      "\t46->60 {}\n",
      "\t46->61 {}\n",
      "\t52->62 {}\n",
      "\t52->63 {}\n",
      "\t52->64 {}\n",
      "\t64->65 {}\n",
      "\t64->66 {}\n",
      "\t64->67 {}\n",
      "\t64->68 {}\n",
      "\t64->69 {}\n"
     ]
    }
   ],
   "source": [
    "parsed_json = G.to_json()\n",
    "\n",
    "# print clear view of all nodes and their edges\n",
    "print(\"List of nodes: \")\n",
    "for n, attrs in G.nodes(data=True):\n",
    "    print(\"\\t\", n, attrs)\n",
    "print(\"List of edges: \")\n",
    "for s, t, attrs in G.edges(data=True):\n",
    "    print(\"\\t{}->{}\".format(s, t), attrs)"
   ]
  },
  {
   "cell_type": "code",
   "execution_count": 12,
   "metadata": {},
   "outputs": [],
   "source": [
    "def remove_descendants(node_type, instances, rule):\n",
    "    print(node_type)\n",
    "    for ins in instances:\n",
    "        node_id = ins[node_type]\n",
    "        print(str(node_id) + \":\")\n",
    "        desc = G.descendants(node_id)\n",
    "        print(desc)\n",
    "        for id in list(desc):\n",
    "            rule.inject_remove_node(id)\n",
    "    return rule\n",
    "\n",
    "\n",
    "# removes all the nodes and edges of all nodes in rule whose ids are not in the list\n",
    "def remove_everything_else(ids, rule, num_nodes):\n",
    "    for i in range(num_nodes):\n",
    "        if i not in ids:\n",
    "            rule.inject_remove_node(i)\n",
    "    return rule\n",
    "\n",
    "\n",
    "# gets the ids of all of the nodes of a certain \"type\" in an instance of a graph\n",
    "def get_ids(node_type, instances):\n",
    "    ids = []\n",
    "    for ins in instances:\n",
    "        node_id = ins[node_type]\n",
    "        ids.append(node_id)\n",
    "    return ids\n",
    "\n",
    "# creates a pattern to filter a graph based on \"node type\"\n",
    "# attr_name -> name given to the variable used to identify this node type\n",
    "# node_type -> the type of node that wants to be filtered\n",
    "def create_simple_pattern(attr_name, node_type):\n",
    "    pattern = NXGraph()\n",
    "    pattern.add_node(attr_name)\n",
    "    pattern.add_node_attrs(attr_name, {\"type\" : node_type})\n",
    "    return pattern\n",
    "\n",
    "# creates a subgraph of the nodes given in ids, searches for their descendants that match the different given patterns\n",
    "# and adds the text attribute of nodes that match those patterns as an attribute to the ascendant node\n",
    "def add_attrs_from_patterns(ids, patterns, is_import):\n",
    "\n",
    "    for id in ids:\n",
    "        subg_nodes = list(G.descendants(id)) if is_import else list(G.successors(id))\n",
    "        subg_nodes.append(id)\n",
    "        subgraph = G.generate_subgraph(G, subg_nodes)\n",
    "        \n",
    "        for patt in patterns:\n",
    "            \n",
    "            instances = subgraph.find_matching(patt[1])\n",
    "            sub_id = get_ids(patt[0], instances)\n",
    "            \n",
    "            G.add_node_attrs(id, attrs={patt[0] : subgraph.get_node(sub_id[0])[\"text\"]})\n",
    "            \n",
    "\n",
    "# adds an edge between the parent of a node and all the children of that same node (grandparent - grandchildren connection)\n",
    "# this is necessary in order to later be able to remove those nodes that only serve as connectors\n",
    "def connect_parent_and_children(ids, rule):\n",
    "    for id in ids:\n",
    "        parent_id = list(G.predecessors(id))[0]\n",
    "        for child_id in list(G.successors(id)):\n",
    "            rule.inject_add_edge(parent_id, child_id)\n",
    "    return rule"
   ]
  },
  {
   "cell_type": "markdown",
   "metadata": {},
   "source": [
    "----------"
   ]
  },
  {
   "cell_type": "markdown",
   "metadata": {},
   "source": [
    "<h3>Approach: Specify \"relevant\" nodes and delete the rest</h3>"
   ]
  },
  {
   "cell_type": "markdown",
   "metadata": {},
   "source": [
    "<b>Create patterns to select the \"relevant\" nodes:</b>"
   ]
  },
  {
   "cell_type": "code",
   "execution_count": 28,
   "metadata": {},
   "outputs": [],
   "source": [
    "pattern1 = create_simple_pattern(\"import\", \"import_statement\")\n",
    "pattern2 = create_simple_pattern(\"function_def\", \"function_definition\")\n",
    "pattern3 = create_simple_pattern(\"function_call\", \"call\")\n",
    "pattern4 = create_simple_pattern(\"var_assignment\", \"assignment\")\n",
    "pattern5 = create_simple_pattern(\"first_node\", \"module\")\n",
    "pattern6 = create_simple_pattern(\"code_block\", \"block\")\n",
    "pattern7 = create_simple_pattern(\"if\", \"if_statement\")\n",
    "pattern8 = create_simple_pattern(\"for\", \"for_statement\")\n",
    "pattern9 = create_simple_pattern(\"expr_statement\", \"expression_statement\")"
   ]
  },
  {
   "cell_type": "code",
   "execution_count": 40,
   "metadata": {},
   "outputs": [],
   "source": [
    "G = parse_py(code_3)\n",
    "rule = Rule.from_transform(G)\n",
    "all_ids = []"
   ]
  },
  {
   "cell_type": "markdown",
   "metadata": {},
   "source": [
    "<b>Import statements:</b><br>"
   ]
  },
  {
   "cell_type": "code",
   "execution_count": 41,
   "metadata": {},
   "outputs": [],
   "source": [
    "# pattern matching of import_statements\n",
    "instances = G.find_matching(pattern1)\n",
    "this_ids = get_ids(\"import\", instances)\n",
    "all_ids += this_ids\n",
    "\n",
    "patterns = []\n",
    "\n",
    "# pattern to get the library name\n",
    "patt = create_simple_pattern(\"library\", \"dotted_name\")\n",
    "patterns.append((\"library\", patt))\n",
    "\n",
    "# pattern to get the alias\n",
    "patt = create_simple_pattern(\"alias\", \"identifier\")\n",
    "patterns.append((\"alias\", patt))\n",
    "\n",
    "add_attrs_from_patterns(this_ids, patterns, True)"
   ]
  },
  {
   "cell_type": "markdown",
   "metadata": {},
   "source": [
    "<p style=\"color:red;\"><b>Missing cases when import statements are called using \"from lib import x\".</b></p>"
   ]
  },
  {
   "cell_type": "markdown",
   "metadata": {},
   "source": [
    "<b>Functions definitions:</b>"
   ]
  },
  {
   "cell_type": "code",
   "execution_count": 42,
   "metadata": {},
   "outputs": [],
   "source": [
    "# pattern matching of function_definition\n",
    "instances = G.find_matching(pattern2)\n",
    "this_ids = get_ids(\"function_def\", instances)\n",
    "all_ids += this_ids\n",
    "\n",
    "patterns = []\n",
    "\n",
    "# pattern to get the function name\n",
    "patt = create_simple_pattern(\"function\", \"identifier\")\n",
    "patterns.append((\"function\", patt))\n",
    "\n",
    "# pattern to get the parameters\n",
    "patt = create_simple_pattern(\"parameters\", \"parameters\")\n",
    "patterns.append((\"parameters\", patt))\n",
    "\n",
    "add_attrs_from_patterns(this_ids, patterns, False)"
   ]
  },
  {
   "cell_type": "markdown",
   "metadata": {},
   "source": [
    "<p style=\"color:red;\"><b>Add return statements?</b></p>"
   ]
  },
  {
   "cell_type": "markdown",
   "metadata": {},
   "source": [
    "<b>Functions calls:</b>"
   ]
  },
  {
   "cell_type": "code",
   "execution_count": 43,
   "metadata": {},
   "outputs": [],
   "source": [
    "# pattern matching of function call\n",
    "instances = G.find_matching(pattern3)\n",
    "this_ids = get_ids(\"function_call\", instances)\n",
    "all_ids += this_ids\n",
    "\n",
    "patterns = []\n",
    "\n",
    "# pattern to get the function arguments\n",
    "patt = create_simple_pattern(\"arguments\", \"argument_list\")\n",
    "patterns.append((\"arguments\", patt))\n",
    "\n",
    "add_attrs_from_patterns(this_ids, patterns, False)"
   ]
  },
  {
   "cell_type": "markdown",
   "metadata": {},
   "source": [
    "<b>Code blocks (connector node):</b>"
   ]
  },
  {
   "cell_type": "code",
   "execution_count": 44,
   "metadata": {},
   "outputs": [],
   "source": [
    "instances = G.find_matching(pattern6)\n",
    "this_ids = get_ids(\"code_block\", instances)\n",
    "#all_ids += this_ids\n",
    "\n",
    "rule = connect_parent_and_children(this_ids, rule)\n",
    "\n",
    "# for id in this_ids:\n",
    "#     print(id)\n",
    "#     rule.inject_remove_node(id)"
   ]
  },
  {
   "cell_type": "markdown",
   "metadata": {},
   "source": [
    "<b>Expression statements (connector node):</b>"
   ]
  },
  {
   "cell_type": "code",
   "execution_count": 45,
   "metadata": {},
   "outputs": [],
   "source": [
    "instances = G.find_matching(pattern9)\n",
    "this_ids = get_ids(\"expr_statement\", instances)\n",
    "#all_ids += this_ids\n",
    "\n",
    "rule = connect_parent_and_children(this_ids, rule)\n",
    "\n",
    "# for id in this_ids:\n",
    "#     print(id)\n",
    "#     rule.inject_remove_node(id)"
   ]
  },
  {
   "cell_type": "markdown",
   "metadata": {},
   "source": [
    "<p style=\"color:red;\"><b>Solve issue where expression statements end up being disconnected from the rest of the graph if their parent is an already removed \"block\" node</b></p>"
   ]
  },
  {
   "cell_type": "markdown",
   "metadata": {},
   "source": [
    "<b>To do:</b>\n",
    "<ul>\n",
    "    <li>for loops</li>\n",
    "    <li>while loops</li>\n",
    "    <li>variable assignments</li>\n",
    "    <li>if statements</li>\n",
    "    <li>else if and else statements</li>\n",
    "</ul>"
   ]
  },
  {
   "cell_type": "code",
   "execution_count": 46,
   "metadata": {},
   "outputs": [],
   "source": [
    "instances = G.find_matching(pattern4)\n",
    "this_ids = get_ids(\"var_assignment\", instances)\n",
    "all_ids += this_ids\n",
    "\n",
    "instances = G.find_matching(pattern5)\n",
    "this_ids = get_ids(\"first_node\", instances)\n",
    "all_ids += this_ids\n",
    "\n",
    "instances = G.find_matching(pattern7)\n",
    "this_ids = get_ids(\"if\", instances)\n",
    "all_ids += this_ids\n",
    "\n",
    "instances = G.find_matching(pattern8)\n",
    "this_ids = get_ids(\"for\", instances)\n",
    "all_ids += this_ids\n"
   ]
  },
  {
   "cell_type": "markdown",
   "metadata": {},
   "source": [
    "<p style=\"color:red;\"><b>We need to find more types of nodes and create patterns for each of them.</b></p>"
   ]
  },
  {
   "cell_type": "markdown",
   "metadata": {},
   "source": [
    "<p style=\"color:red;\"><b>We need to test if what we have also works with R.</b></p>"
   ]
  },
  {
   "cell_type": "markdown",
   "metadata": {},
   "source": [
    "<b>Delete all nodes that are not \"relevant\":</b>"
   ]
  },
  {
   "cell_type": "code",
   "execution_count": 47,
   "metadata": {},
   "outputs": [],
   "source": [
    "rule = remove_everything_else(all_ids, rule, len(parsed_json[\"nodes\"]))"
   ]
  },
  {
   "cell_type": "code",
   "execution_count": 48,
   "metadata": {
    "scrolled": true
   },
   "outputs": [
    {
     "data": {
      "image/png": "[encoded data removed]",
      "text/plain": [
       "<Figure size 1008x216 with 3 Axes>"
      ]
     },
     "metadata": {},
     "output_type": "display_data"
    }
   ],
   "source": [
    "plot_rule(rule)"
   ]
  },
  {
   "cell_type": "markdown",
   "metadata": {},
   "source": [
    "--------"
   ]
  },
  {
   "cell_type": "markdown",
   "metadata": {},
   "source": [
    "<h3>Approach: Specify \"relevant\" nodes and remove all their descendants</h3>"
   ]
  },
  {
   "cell_type": "code",
   "execution_count": 124,
   "metadata": {
    "scrolled": true
   },
   "outputs": [
    {
     "name": "stdout",
     "output_type": "stream",
     "text": [
      "import\n",
      "1:\n",
      "{3, 4, 11, 12, 13, 21}\n",
      "function\n",
      "2:\n",
      "{5, 6, 7, 8, 9, 10, 14, 15, 16, 17, 18, 19, 20, 22, 23, 24, 25, 26, 27}\n",
      "expression\n",
      "19:\n",
      "{25, 26, 27, 22}\n"
     ]
    },
    {
     "ename": "RuleError",
     "evalue": "Node '25' does not exist in the preserved part",
     "output_type": "error",
     "traceback": [
      "\u001b[0;31m---------------------------------------------------------------------------\u001b[0m",
      "\u001b[0;31mRuleError\u001b[0m                                 Traceback (most recent call last)",
      "Input \u001b[0;32mIn [124]\u001b[0m, in \u001b[0;36m<cell line: 10>\u001b[0;34m()\u001b[0m\n\u001b[1;32m      7\u001b[0m rule \u001b[38;5;241m=\u001b[39m remove_descendants_rule(\u001b[38;5;124m\"\u001b[39m\u001b[38;5;124mfunction\u001b[39m\u001b[38;5;124m\"\u001b[39m, instances2, rule)\n\u001b[1;32m      9\u001b[0m instances3 \u001b[38;5;241m=\u001b[39m G\u001b[38;5;241m.\u001b[39mfind_matching(pattern3)\n\u001b[0;32m---> 10\u001b[0m rule \u001b[38;5;241m=\u001b[39m \u001b[43mremove_descendants_rule\u001b[49m\u001b[43m(\u001b[49m\u001b[38;5;124;43m\"\u001b[39;49m\u001b[38;5;124;43mexpression\u001b[39;49m\u001b[38;5;124;43m\"\u001b[39;49m\u001b[43m,\u001b[49m\u001b[43m \u001b[49m\u001b[43minstances3\u001b[49m\u001b[43m,\u001b[49m\u001b[43m \u001b[49m\u001b[43mrule\u001b[49m\u001b[43m)\u001b[49m\n\u001b[1;32m     12\u001b[0m plot_rule(rule)\n",
      "Input \u001b[0;32mIn [123]\u001b[0m, in \u001b[0;36mremove_descendants_rule\u001b[0;34m(node_type, instances, rule)\u001b[0m\n\u001b[1;32m      9\u001b[0m     \u001b[38;5;28mprint\u001b[39m(desc)\n\u001b[1;32m     11\u001b[0m     \u001b[38;5;28;01mfor\u001b[39;00m \u001b[38;5;28mid\u001b[39m \u001b[38;5;129;01min\u001b[39;00m \u001b[38;5;28mlist\u001b[39m(desc):\n\u001b[0;32m---> 12\u001b[0m         \u001b[43mrule\u001b[49m\u001b[38;5;241;43m.\u001b[39;49m\u001b[43minject_remove_node\u001b[49m\u001b[43m(\u001b[49m\u001b[38;5;28;43mid\u001b[39;49m\u001b[43m)\u001b[49m\n\u001b[1;32m     14\u001b[0m \u001b[38;5;28;01mreturn\u001b[39;00m rule\n",
      "File \u001b[0;32m~/Desktop/Code/university_projects/datenbankprojekt/DBPRO.IMPRO.SS22-parsing-ds-source-code/third_party/ReGraph/ReGraph/regraph/rules.py:324\u001b[0m, in \u001b[0;36mRule.inject_remove_node\u001b[0;34m(self, p_node_id)\u001b[0m\n\u001b[1;32m    322\u001b[0m     \u001b[38;5;28mself\u001b[39m\u001b[38;5;241m.\u001b[39mp\u001b[38;5;241m.\u001b[39mremove_node(p_node_id)\n\u001b[1;32m    323\u001b[0m \u001b[38;5;28;01melse\u001b[39;00m:\n\u001b[0;32m--> 324\u001b[0m     \u001b[38;5;28;01mraise\u001b[39;00m RuleError(\n\u001b[1;32m    325\u001b[0m         \u001b[38;5;124m\"\u001b[39m\u001b[38;5;124mNode \u001b[39m\u001b[38;5;124m'\u001b[39m\u001b[38;5;132;01m{}\u001b[39;00m\u001b[38;5;124m'\u001b[39m\u001b[38;5;124m does not exist in the preserved part\u001b[39m\u001b[38;5;124m\"\u001b[39m\u001b[38;5;241m.\u001b[39mformat(\n\u001b[1;32m    326\u001b[0m             p_node_id))\n\u001b[1;32m    327\u001b[0m \u001b[38;5;28;01mif\u001b[39;00m \u001b[38;5;28mself\u001b[39m\u001b[38;5;241m.\u001b[39mp_rhs[p_node_id] \u001b[38;5;129;01min\u001b[39;00m \u001b[38;5;28mself\u001b[39m\u001b[38;5;241m.\u001b[39mrhs\u001b[38;5;241m.\u001b[39mnodes():\n\u001b[1;32m    328\u001b[0m     \u001b[38;5;28mself\u001b[39m\u001b[38;5;241m.\u001b[39mrhs\u001b[38;5;241m.\u001b[39mremove_node(\u001b[38;5;28mself\u001b[39m\u001b[38;5;241m.\u001b[39mp_rhs[p_node_id])\n",
      "\u001b[0;31mRuleError\u001b[0m: Node '25' does not exist in the preserved part"
     ]
    }
   ],
   "source": [
    "rule = Rule.from_transform(G)\n",
    "\n",
    "instances1 = G.find_matching(pattern1)\n",
    "rule = remove_descendants(\"import\", instances1, rule)\n",
    "\n",
    "instances2 = G.find_matching(pattern2)\n",
    "rule = remove_descendants(\"function\", instances2, rule)\n",
    "\n",
    "instances3 = G.find_matching(pattern3)\n",
    "rule = remove_descendants(\"expression\", instances3, rule)\n",
    "\n",
    "plot_rule(rule)"
   ]
  },
  {
   "cell_type": "markdown",
   "metadata": {},
   "source": [
    "<b>Won't work since we won't be able to analyze the content of a function for example, since everything inside would be deleted. Nested functions wouldn't be possible.</b>"
   ]
  },
  {
   "cell_type": "markdown",
   "metadata": {},
   "source": [
    "----------------------------------"
   ]
  },
  {
   "cell_type": "markdown",
   "metadata": {},
   "source": [
    "<h2>Playground</h2>"
   ]
  },
  {
   "cell_type": "code",
   "execution_count": 14,
   "metadata": {
    "pycharm": {
     "name": "#%%\n"
    }
   },
   "outputs": [],
   "source": [
    "# Create an empty graph object\n",
    "graph = NXGraph()\n",
    "\n",
    "# Add a list of nodes, optionally with attributes\n",
    "graph.add_nodes_from(\n",
    "    [\n",
    "        'Alice',\n",
    "        ('Bob', {'age': 15, 'gender': 'male'}),\n",
    "        ('Jane', {'age': 40, 'gender': 'female'}),\n",
    "        ('Eric', {'age': 55, 'gender': 'male'})\n",
    "])\n",
    "\n",
    "# Add a list of edges, optionally with attributes\n",
    "graph.add_edges_from([\n",
    "    (\"Alice\", \"Bob\"),\n",
    "    (\"Jane\", \"Bob\", {\"type\": \"parent\", \"since\": 1993}),\n",
    "    (\"Eric\", \"Jane\", {\"type\": \"friend\", \"since\": 1985}),\n",
    "    (\"Eric\", \"Alice\", {\"type\": \"parent\", \"since\": 1992}),\n",
    "])\n",
    "\n",
    "graph_json = graph.to_json()"
   ]
  },
  {
   "cell_type": "code",
   "execution_count": 15,
   "metadata": {
    "pycharm": {
     "name": "#%%\n"
    }
   },
   "outputs": [
    {
     "name": "stdout",
     "output_type": "stream",
     "text": [
      "List of nodes: \n",
      "\t Alice {}\n",
      "\t Bob {'age': {15}, 'gender': {'male'}}\n",
      "\t Jane {'age': {40}, 'gender': {'female'}}\n",
      "\t Eric {'age': {55}, 'gender': {'male'}}\n",
      "List of edges: \n",
      "\tAlice->Bob {}\n",
      "\tJane->Bob {'type': {'parent'}, 'since': {1993}}\n",
      "\tEric->Jane {'type': {'friend'}, 'since': {1985}}\n",
      "\tEric->Alice {'type': {'parent'}, 'since': {1992}}\n"
     ]
    }
   ],
   "source": [
    "print(\"List of nodes: \")\n",
    "for n, attrs in graph.nodes(data=True):\n",
    "    print(\"\\t\", n, attrs)\n",
    "print(\"List of edges: \")\n",
    "for s, t, attrs in graph.edges(data=True):\n",
    "    print(\"\\t{}->{}\".format(s, t), attrs)"
   ]
  },
  {
   "cell_type": "code",
   "execution_count": 21,
   "metadata": {
    "pycharm": {
     "name": "#%%\n"
    }
   },
   "outputs": [
    {
     "data": {
      "image/png": "[encoded data removed]",
      "text/plain": [
       "<Figure size 1008x216 with 3 Axes>"
      ]
     },
     "metadata": {},
     "output_type": "display_data"
    }
   ],
   "source": [
    "rule = Rule.from_transform(graph)\n",
    "plot_rule(rule)"
   ]
  },
  {
   "cell_type": "code",
   "execution_count": 22,
   "metadata": {
    "pycharm": {
     "name": "#%%\n"
    }
   },
   "outputs": [],
   "source": [
    "pattern = NXGraph()\n",
    "pattern.add_nodes_from([\"x\"])\n",
    "pattern.add_node_attrs(\"x\", {\"age\" : 15})"
   ]
  },
  {
   "cell_type": "code",
   "execution_count": 23,
   "metadata": {
    "pycharm": {
     "name": "#%%\n"
    }
   },
   "outputs": [
    {
     "data": {
      "text/plain": [
       "[{'x': 'Bob'}]"
      ]
     },
     "execution_count": 23,
     "metadata": {},
     "output_type": "execute_result"
    }
   ],
   "source": [
    "instances = graph.find_matching(pattern)\n",
    "instances"
   ]
  },
  {
   "cell_type": "code",
   "execution_count": 24,
   "metadata": {
    "scrolled": false
   },
   "outputs": [
    {
     "name": "stdout",
     "output_type": "stream",
     "text": [
      "List of nodes: \n",
      "\t Alice {}\n",
      "\t Bob {'age': {15}, 'gender': {'male'}}\n",
      "\t Jane {'age': {40}, 'gender': {'female'}}\n",
      "\t Eric {'age': {55}, 'gender': {'male'}}\n",
      "List of edges: \n",
      "\tAlice->Bob {}\n",
      "\tJane->Bob {'type': {'parent'}, 'since': {1993}}\n",
      "\tEric->Jane {'type': {'friend'}, 'since': {1985}}\n",
      "\tEric->Alice {'type': {'parent'}, 'since': {1992}}\n"
     ]
    }
   ],
   "source": [
    "print(\"List of nodes: \")\n",
    "for n, attrs in graph.nodes(data=True):\n",
    "    print(\"\\t\", n, attrs)\n",
    "print(\"List of edges: \")\n",
    "for s, t, attrs in graph.edges(data=True):\n",
    "    print(\"\\t{}->{}\".format(s, t), attrs)"
   ]
  }
 ],
 "metadata": {
  "kernelspec": {
   "display_name": "Python 3 (ipykernel)",
   "language": "python",
   "name": "python3"
  },
  "language_info": {
   "codemirror_mode": {
    "name": "ipython",
    "version": 3
   },
   "file_extension": ".py",
   "mimetype": "text/x-python",
   "name": "python",
   "nbconvert_exporter": "python",
   "pygments_lexer": "ipython3",
   "version": "3.8.10"
  }
 },
 "nbformat": 4,
 "nbformat_minor": 1
}
