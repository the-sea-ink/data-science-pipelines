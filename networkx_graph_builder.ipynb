{
 "cells": [
  {
   "cell_type": "code",
   "execution_count": null,
   "outputs": [],
   "source": [
    "from tree_sitter import Language, Parser\n",
    "import networkx as nx\n",
    "import matplotlib.pyplot as plt\n",
    "from regraph import NXGraph, Rule\n",
    "from regraph import plot_graph, plot_instance, plot_rule"
   ],
   "metadata": {
    "collapsed": false,
    "pycharm": {
     "name": "#%%\n"
    }
   }
  },
  {
   "cell_type": "code",
   "execution_count": null,
   "outputs": [],
   "source": [
    "code_1 = \"\"\"\n",
    "import numpy as np\n",
    "\n",
    "def perform_bernoulli_trials(n, p):\n",
    "\n",
    "    # Initialize number of successes: n_success\n",
    "    n_success = 0\n",
    "\n",
    "    # Perform trials\n",
    "    for i in range(n):\n",
    "        # Choose random number between zero and one: random_number\n",
    "        random_number = np.random.random()\n",
    "\n",
    "        # If less than p, it's a success so add one to n_success\n",
    "        if random_number < p:\n",
    "            n_success += 1\n",
    "\n",
    "    return n_success\n",
    "\"\"\"\n",
    "\n",
    "code_2 = \"\"\"\n",
    "import numpy as np\n",
    "\n",
    "def perform_bernoulli_trials(n, p):\n",
    "\n",
    "    # Initialize number of successes: n_success\n",
    "    n_success = 0\n",
    "\n",
    "    return n_success\n",
    "\"\"\"\n",
    "\n",
    "code_3 = \"\"\"\n",
    "import numpy as np\n",
    "import libs as l\n",
    "\n",
    "def perform_bernoulli_trials(n, p):\n",
    "\n",
    "    # Initialize number of successes: n_success\n",
    "    n_success = 0\n",
    "    return n_success\n",
    "    \n",
    "print(\"Python is great!\")\n",
    "\n",
    "np.ndarray(size=(5,5))\n",
    "\n",
    "x = 5 * 3\n",
    "\"\"\""
   ],
   "metadata": {
    "collapsed": false,
    "pycharm": {
     "name": "#%%\n"
    }
   }
  },
  {
   "cell_type": "code",
   "execution_count": null,
   "outputs": [],
   "source": [
    "PY_LANGUAGE = Language('build/my-languages.so', 'python')\n",
    "python_parser = Parser()\n",
    "python_parser.set_language(PY_LANGUAGE)"
   ],
   "metadata": {
    "collapsed": false,
    "pycharm": {
     "name": "#%%\n"
    }
   }
  },
  {
   "cell_type": "code",
   "execution_count": null,
   "outputs": [],
   "source": [
    "def parse_py(code):\n",
    "    \n",
    "    # get a tree\n",
    "    tree = python_parser.parse(bytes(code, \"utf8\"))\n",
    "\n",
    "    # traverse tree to get nodes & edges\n",
    "    G = NXGraph()\n",
    "    \n",
    "    G = bfs_tree_traverser(tree.root_node, G)\n",
    "    return G"
   ],
   "metadata": {
    "collapsed": false,
    "pycharm": {
     "name": "#%%\n"
    }
   }
  },
  {
   "cell_type": "code",
   "execution_count": null,
   "outputs": [],
   "source": [
    "def bfs_tree_traverser(root_node, G):\n",
    "    # node_id = id of current node being traversed\n",
    "    # parent_id = id of the parent of the current node\n",
    "    node_id, parent_id = 0, 0\n",
    "    # lists to queue the nodes in order and identify already visited nodes\n",
    "    visited, queue = [], []\n",
    "\n",
    "    visited.append(root_node)\n",
    "    queue.append(root_node)\n",
    "\n",
    "    # add root_node to the graph\n",
    "    G.add_node(0, attrs={\"type\": root_node.type, \"text\": root_node.text})\n",
    "\n",
    "    # loop to visit each node\n",
    "    while queue:\n",
    "        node = queue.pop(0)\n",
    "\n",
    "        for child_node in node.children:\n",
    "            if child_node not in visited:\n",
    "                node_id += 1\n",
    "                # add child node to graph\n",
    "                G.add_node(node_id, attrs={\"type\": child_node.type, \"text\": child_node.text, \"parent_id\":parent_id})\n",
    "                # add edge between parent_node and child_node\n",
    "                G.add_edge(parent_id, node_id)\n",
    "\n",
    "                visited.append(child_node)\n",
    "                queue.append(child_node)\n",
    "\n",
    "        # set parent_id to the id of the next node in queue\n",
    "        parent_id = parent_id + 1\n",
    "\n",
    "    return G"
   ],
   "metadata": {
    "collapsed": false,
    "pycharm": {
     "name": "#%%\n"
    }
   }
  },
  {
   "cell_type": "code",
   "execution_count": null,
   "outputs": [],
   "source": [
    "G = parse_py(code_3)\n",
    "type(G)"
   ],
   "metadata": {
    "collapsed": false,
    "pycharm": {
     "name": "#%%\n"
    }
   }
  },
  {
   "cell_type": "code",
   "execution_count": null,
   "outputs": [],
   "source": [
    "pattern_from_graph = G\n",
    "rule3 = Rule.from_transform(pattern_from_graph)\n",
    "plot_rule(rule3)"
   ],
   "metadata": {
    "collapsed": false,
    "pycharm": {
     "name": "#%%\n"
    }
   }
  },
  {
   "cell_type": "code",
   "execution_count": null,
   "outputs": [],
   "source": [
    "json_rules = rule3.to_json()\n",
    "print(json_rules)"
   ],
   "metadata": {
    "collapsed": false,
    "pycharm": {
     "name": "#%%\n"
    }
   }
  },
  {
   "cell_type": "markdown",
   "source": [
    "--------------------------------------"
   ],
   "metadata": {
    "collapsed": false,
    "pycharm": {
     "name": "#%% md\n"
    }
   }
  },
  {
   "cell_type": "markdown",
   "source": [
    "<h2>Graph Simplification by Node Generalization</h2>"
   ],
   "metadata": {
    "collapsed": false,
    "pycharm": {
     "name": "#%% md\n"
    }
   }
  },
  {
   "cell_type": "code",
   "execution_count": null,
   "outputs": [],
   "source": [
    "parsed_json = G.to_json()\n",
    "\n",
    "# print clear view of all nodes and their edges\n",
    "print(\"List of nodes: \")\n",
    "for n, attrs in G.nodes(data=True):\n",
    "    print(\"\\t\", n, attrs)\n",
    "print(\"List of edges: \")\n",
    "for s, t, attrs in G.edges(data=True):\n",
    "    print(\"\\t{}->{}\".format(s, t), attrs)"
   ],
   "metadata": {
    "collapsed": false,
    "pycharm": {
     "name": "#%%\n"
    }
   }
  },
  {
   "cell_type": "code",
   "execution_count": null,
   "outputs": [],
   "source": [
    "def remove_descendants(node_type, instances, rule):\n",
    "    print(node_type)\n",
    "    for ins in instances:\n",
    "        node_id = ins[node_type]\n",
    "        print(str(node_id) + \":\")\n",
    "        desc = G.descendants(node_id)\n",
    "        print(desc)\n",
    "        for id in list(desc):\n",
    "            rule.inject_remove_node(id)\n",
    "    return rule\n",
    "\n",
    "\n",
    "def remove_everything_else(ids, rule, num_nodes):\n",
    "    for i in range(num_nodes):\n",
    "        if i not in ids:\n",
    "            rule.inject_remove_node(i)\n",
    "    return rule\n",
    "\n",
    "\n",
    "def get_ids(node_type, instances):\n",
    "    ids = []\n",
    "    for ins in instances:\n",
    "        node_id = ins[node_type]\n",
    "        ids.append(node_id)\n",
    "    return ids\n",
    "\n",
    "def create_simple_pattern(attr_name, node_type):\n",
    "    pattern = NXGraph()\n",
    "    pattern.add_node(attr_name)\n",
    "    pattern.add_node_attrs(attr_name, {\"type\" : node_type})\n",
    "    return pattern\n",
    "\n",
    "def add_attrs_from_patterns(ids, patterns, is_import):\n",
    "\n",
    "    for id in ids:\n",
    "        subg_nodes = list(G.descendants(id)) if is_import else list(G.successors(id))\n",
    "        subg_nodes.append(id)\n",
    "        subgraph = G.generate_subgraph(G, subg_nodes)\n",
    "        \n",
    "        for patt in patterns:\n",
    "            \n",
    "            instances = subgraph.find_matching(patt[1])\n",
    "            sub_id = get_ids(patt[0], instances)\n",
    "            \n",
    "            G.add_node_attrs(id, attrs={patt[0] : subgraph.get_node(sub_id[0])[\"text\"]})\n",
    "            \n",
    "            \n",
    "def connect_parent_and_children(ids, rule):\n",
    "    for id in ids:\n",
    "        parent_id = list(G.predecessors(id))[0]\n",
    "        for child_id in list(G.successors(id)):\n",
    "            rule.inject_add_edge(parent_id, child_id)\n",
    "    return rule"
   ],
   "metadata": {
    "collapsed": false,
    "pycharm": {
     "name": "#%%\n"
    }
   }
  },
  {
   "cell_type": "code",
   "execution_count": null,
   "outputs": [],
   "source": [
    "id = G.get_node(17)[\"parent_id\"]"
   ],
   "metadata": {
    "collapsed": false,
    "pycharm": {
     "name": "#%%\n"
    }
   }
  },
  {
   "cell_type": "code",
   "execution_count": null,
   "outputs": [],
   "source": [
    "list(G.successors(3))"
   ],
   "metadata": {
    "collapsed": false,
    "pycharm": {
     "name": "#%%\n"
    }
   }
  },
  {
   "cell_type": "markdown",
   "source": [
    "----------"
   ],
   "metadata": {
    "collapsed": false,
    "pycharm": {
     "name": "#%% md\n"
    }
   }
  },
  {
   "cell_type": "markdown",
   "source": [
    "<b>Create patterns to select the \"relevant\" nodes:</b>"
   ],
   "metadata": {
    "collapsed": false,
    "pycharm": {
     "name": "#%% md\n"
    }
   }
  },
  {
   "cell_type": "code",
   "execution_count": null,
   "outputs": [],
   "source": [
    "pattern1 = create_simple_pattern(\"import\", \"import_statement\")\n",
    "pattern2 = create_simple_pattern(\"function_def\", \"function_definition\")\n",
    "pattern3 = create_simple_pattern(\"function_call\", \"call\")\n",
    "pattern4 = create_simple_pattern(\"var_assignment\", \"assignment\")\n",
    "pattern5 = create_simple_pattern(\"first_node\", \"module\")\n",
    "pattern6 = create_simple_pattern(\"code_block\", \"block\")\n",
    "pattern7 = create_simple_pattern(\"if\", \"if_statement\")\n",
    "pattern8 = create_simple_pattern(\"for\", \"for_statement\")\n",
    "pattern9 = create_simple_pattern(\"expr_statement\", \"expression_statement\")"
   ],
   "metadata": {
    "collapsed": false,
    "pycharm": {
     "name": "#%%\n"
    }
   }
  },
  {
   "cell_type": "markdown",
   "source": [
    "<h3>Approach: Specify \"relevant\" nodes and delete the rest</h3>"
   ],
   "metadata": {
    "collapsed": false,
    "pycharm": {
     "name": "#%% md\n"
    }
   }
  },
  {
   "cell_type": "markdown",
   "source": [
    "<b>Get the IDs of all the \"relevant\" nodes:</b>"
   ],
   "metadata": {
    "collapsed": false,
    "pycharm": {
     "name": "#%% md\n"
    }
   }
  },
  {
   "cell_type": "code",
   "execution_count": null,
   "outputs": [],
   "source": [
    "rule = Rule.from_transform(G)\n",
    "all_ids = []"
   ],
   "metadata": {
    "collapsed": false,
    "pycharm": {
     "name": "#%%\n"
    }
   }
  },
  {
   "cell_type": "code",
   "execution_count": null,
   "outputs": [],
   "source": [
    "# pattern matching of import_statements\n",
    "instances = G.find_matching(pattern1)\n",
    "this_ids = get_ids(\"import\", instances)\n",
    "all_ids += this_ids\n",
    "\n",
    "patterns = []\n",
    "\n",
    "# pattern to get the library name\n",
    "patt = create_simple_pattern(\"library\", \"dotted_name\")\n",
    "patterns.append((\"library\", patt))\n",
    "\n",
    "# pattern to get the alias\n",
    "patt = create_simple_pattern(\"alias\", \"identifier\")\n",
    "patterns.append((\"alias\", patt))\n",
    "\n",
    "add_attrs_from_patterns(this_ids, patterns, True)"
   ],
   "metadata": {
    "collapsed": false,
    "pycharm": {
     "name": "#%%\n"
    }
   }
  },
  {
   "cell_type": "code",
   "execution_count": null,
   "outputs": [],
   "source": [
    "# pattern matching of function_definition\n",
    "instances = G.find_matching(pattern2)\n",
    "this_ids = get_ids(\"function_def\", instances)\n",
    "all_ids += this_ids\n",
    "\n",
    "patterns = []\n",
    "\n",
    "# pattern to get the function name\n",
    "patt = create_simple_pattern(\"function\", \"identifier\")\n",
    "patterns.append((\"function\", patt))\n",
    "\n",
    "# pattern to get the parameters\n",
    "patt = create_simple_pattern(\"parameters\", \"parameters\")\n",
    "patterns.append((\"parameters\", patt))\n",
    "\n",
    "add_attrs_from_patterns(this_ids, patterns, False)"
   ],
   "metadata": {
    "collapsed": false,
    "pycharm": {
     "name": "#%%\n"
    }
   }
  },
  {
   "cell_type": "code",
   "execution_count": null,
   "outputs": [],
   "source": [
    "# pattern matching of function call\n",
    "instances = G.find_matching(pattern3)\n",
    "this_ids = get_ids(\"function_call\", instances)\n",
    "all_ids += this_ids\n",
    "\n",
    "patterns = []\n",
    "\n",
    "# pattern to get the function arguments\n",
    "patt = create_simple_pattern(\"arguments\", \"argument_list\")\n",
    "patterns.append((\"arguments\", patt))\n",
    "\n",
    "add_attrs_from_patterns(this_ids, patterns, False)"
   ],
   "metadata": {
    "collapsed": false,
    "pycharm": {
     "name": "#%%\n"
    }
   }
  },
  {
   "cell_type": "code",
   "execution_count": null,
   "outputs": [],
   "source": [
    "instances = G.find_matching(pattern6)\n",
    "this_ids = get_ids(\"code_block\", instances)\n",
    "#all_ids += this_ids\n",
    "\n",
    "rule = connect_parent_and_children(this_ids, rule)\n",
    "\n",
    "# for id in this_ids:\n",
    "#     print(id)\n",
    "#     rule.inject_remove_node(id)"
   ],
   "metadata": {
    "collapsed": false,
    "pycharm": {
     "name": "#%%\n"
    }
   }
  },
  {
   "cell_type": "code",
   "execution_count": null,
   "outputs": [],
   "source": [
    "instances = G.find_matching(pattern9)\n",
    "this_ids = get_ids(\"expr_statement\", instances)\n",
    "#all_ids += this_ids\n",
    "\n",
    "rule = connect_parent_and_children(this_ids, rule)\n",
    "\n",
    "# for id in this_ids:\n",
    "#     print(id)\n",
    "#     rule.inject_remove_node(id)"
   ],
   "metadata": {
    "collapsed": false,
    "pycharm": {
     "name": "#%%\n"
    }
   }
  },
  {
   "cell_type": "code",
   "execution_count": null,
   "outputs": [],
   "source": [
    "instances = G.find_matching(pattern4)\n",
    "this_ids = get_ids(\"var_assignment\", instances)\n",
    "all_ids += this_ids\n",
    "\n",
    "instances = G.find_matching(pattern5)\n",
    "this_ids += get_ids(\"first_node\", instances)\n",
    "all_ids += this_ids\n",
    "\n",
    "instances = G.find_matching(pattern7)\n",
    "this_ids += get_ids(\"if\", instances)\n",
    "all_ids += this_ids\n",
    "\n",
    "instances = G.find_matching(pattern8)\n",
    "this_ids += get_ids(\"for\", instances)\n",
    "all_ids += this_ids\n"
   ],
   "metadata": {
    "collapsed": false,
    "pycharm": {
     "name": "#%%\n"
    }
   }
  },
  {
   "cell_type": "markdown",
   "source": [
    "<b>Delete all nodes that are not \"relevant\":</b>"
   ],
   "metadata": {
    "collapsed": false,
    "pycharm": {
     "name": "#%% md\n"
    }
   }
  },
  {
   "cell_type": "code",
   "execution_count": null,
   "outputs": [],
   "source": [
    "rule = remove_everything_else(all_ids, rule, len(parsed_json[\"nodes\"]))"
   ],
   "metadata": {
    "collapsed": false,
    "pycharm": {
     "name": "#%%\n"
    }
   }
  },
  {
   "cell_type": "code",
   "execution_count": null,
   "outputs": [],
   "source": [
    "plot_rule(rule)"
   ],
   "metadata": {
    "collapsed": false,
    "pycharm": {
     "name": "#%%\n"
    }
   }
  },
  {
   "cell_type": "code",
   "execution_count": null,
   "outputs": [],
   "source": [
    "rule.rhs.to_json()"
   ],
   "metadata": {
    "collapsed": false,
    "pycharm": {
     "name": "#%%\n"
    }
   }
  },
  {
   "cell_type": "markdown",
   "source": [
    "--------"
   ],
   "metadata": {
    "collapsed": false,
    "pycharm": {
     "name": "#%% md\n"
    }
   }
  },
  {
   "cell_type": "markdown",
   "source": [
    "<h3>Approach: Specify \"relevant\" nodes and remove all their descendants</h3>"
   ],
   "metadata": {
    "collapsed": false,
    "pycharm": {
     "name": "#%% md\n"
    }
   }
  },
  {
   "cell_type": "code",
   "execution_count": null,
   "outputs": [],
   "source": [
    "rule = Rule.from_transform(G)\n",
    "\n",
    "instances1 = G.find_matching(pattern1)\n",
    "rule = remove_descendants(\"import\", instances1, rule)\n",
    "\n",
    "instances2 = G.find_matching(pattern2)\n",
    "rule = remove_descendants(\"function\", instances2, rule)\n",
    "\n",
    "instances3 = G.find_matching(pattern3)\n",
    "rule = remove_descendants(\"expression\", instances3, rule)\n",
    "\n",
    "plot_rule(rule)"
   ],
   "metadata": {
    "collapsed": false,
    "pycharm": {
     "name": "#%%\n"
    }
   }
  },
  {
   "cell_type": "markdown",
   "source": [
    "<b>Won't work since we won't be able to analyze the content of a function for example, since everything inside would be deleted. Nested functions wouldn't be possible.</b>"
   ],
   "metadata": {
    "collapsed": false,
    "pycharm": {
     "name": "#%% md\n"
    }
   }
  },
  {
   "cell_type": "markdown",
   "source": [
    "----------------------------------"
   ],
   "metadata": {
    "collapsed": false,
    "pycharm": {
     "name": "#%% md\n"
    }
   }
  },
  {
   "cell_type": "markdown",
   "source": [
    "<h2>Playground</h2>"
   ],
   "metadata": {
    "collapsed": false,
    "pycharm": {
     "name": "#%% md\n"
    }
   }
  },
  {
   "cell_type": "code",
   "execution_count": null,
   "outputs": [],
   "source": [
    "# Create an empty graph object\n",
    "graph = NXGraph()\n",
    "\n",
    "# Add a list of nodes, optionally with attributes\n",
    "graph.add_nodes_from(\n",
    "    [\n",
    "        'Alice',\n",
    "        ('Bob', {'age': 15, 'gender': 'male'}),\n",
    "        ('Jane', {'age': 40, 'gender': 'female'}),\n",
    "        ('Eric', {'age': 55, 'gender': 'male'})\n",
    "])\n",
    "\n",
    "# Add a list of edges, optionally with attributes\n",
    "graph.add_edges_from([\n",
    "    (\"Alice\", \"Bob\"),\n",
    "    (\"Jane\", \"Bob\", {\"type\": \"parent\", \"since\": 1993}),\n",
    "    (\"Eric\", \"Jane\", {\"type\": \"friend\", \"since\": 1985}),\n",
    "    (\"Eric\", \"Alice\", {\"type\": \"parent\", \"since\": 1992}),\n",
    "])\n",
    "\n",
    "graph_json = graph.to_json()"
   ],
   "metadata": {
    "collapsed": false,
    "pycharm": {
     "name": "#%%\n"
    }
   }
  },
  {
   "cell_type": "code",
   "execution_count": null,
   "outputs": [],
   "source": [
    "print(\"List of nodes: \")\n",
    "for n, attrs in graph.nodes(data=True):\n",
    "    print(\"\\t\", n, attrs)\n",
    "print(\"List of edges: \")\n",
    "for s, t, attrs in graph.edges(data=True):\n",
    "    print(\"\\t{}->{}\".format(s, t), attrs)"
   ],
   "metadata": {
    "collapsed": false,
    "pycharm": {
     "name": "#%%\n"
    }
   }
  },
  {
   "cell_type": "code",
   "execution_count": null,
   "outputs": [],
   "source": [
    "rule = Rule.from_transform(graph)\n",
    "plot_rule(rule)"
   ],
   "metadata": {
    "collapsed": false,
    "pycharm": {
     "name": "#%%\n"
    }
   }
  },
  {
   "cell_type": "code",
   "execution_count": null,
   "outputs": [],
   "source": [
    "pattern = NXGraph()\n",
    "pattern.add_nodes_from([\"x\"])\n",
    "pattern.add_node_attrs(\"x\", {\"age\" : 15})"
   ],
   "metadata": {
    "collapsed": false,
    "pycharm": {
     "name": "#%%\n"
    }
   }
  },
  {
   "cell_type": "code",
   "execution_count": null,
   "outputs": [],
   "source": [
    "instances = graph.find_matching(pattern)\n",
    "instances"
   ],
   "metadata": {
    "collapsed": false,
    "pycharm": {
     "name": "#%%\n"
    }
   }
  },
  {
   "cell_type": "code",
   "execution_count": null,
   "outputs": [],
   "source": [
    "print(\"List of nodes: \")\n",
    "for n, attrs in graph.nodes(data=True):\n",
    "    print(\"\\t\", n, attrs)\n",
    "print(\"List of edges: \")\n",
    "for s, t, attrs in graph.edges(data=True):\n",
    "    print(\"\\t{}->{}\".format(s, t), attrs)"
   ],
   "metadata": {
    "collapsed": false,
    "pycharm": {
     "name": "#%%\n"
    }
   }
  }
 ],
 "metadata": {
  "kernelspec": {
   "display_name": "Python 3 (ipykernel)",
   "language": "python",
   "name": "python3"
  },
  "language_info": {
   "codemirror_mode": {
    "name": "ipython",
    "version": 3
   },
   "file_extension": ".py",
   "mimetype": "text/x-python",
   "name": "python",
   "nbconvert_exporter": "python",
   "pygments_lexer": "ipython3",
   "version": "3.8.10"
  }
 },
 "nbformat": 4,
 "nbformat_minor": 1
}